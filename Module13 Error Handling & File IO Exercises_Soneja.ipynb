{
 "cells": [
  {
   "cell_type": "markdown",
   "metadata": {},
   "source": [
    "### Exercise 1\n",
    "Create a file called <b>exercise1.txt</b> and write following lines:\n",
    "\n",
    "    Twinkle, twinkle, little star,\n",
    "    How I wonder what you are.\n",
    "    Up above the world so high,\n",
    "    Like a diamond in the sky.\n",
    "    \n",
    "    \n",
    "Don't forget to close the file.        "
   ]
  },
  {
   "cell_type": "code",
   "execution_count": 56,
   "metadata": {},
   "outputs": [],
   "source": [
    "file = open(\"exercise1.txt\", \"w\")"
   ]
  },
  {
   "cell_type": "code",
   "execution_count": 57,
   "metadata": {},
   "outputs": [
    {
     "data": {
      "text/plain": [
       "115"
      ]
     },
     "execution_count": 57,
     "metadata": {},
     "output_type": "execute_result"
    }
   ],
   "source": [
    "file.write(\"Twinkle, twinkle, little star, \\nHow I wonder what you are. \\nUp above the world so high, \\nLike a diamond in the sky.\")"
   ]
  },
  {
   "cell_type": "code",
   "execution_count": 58,
   "metadata": {},
   "outputs": [],
   "source": [
    "file.close()"
   ]
  },
  {
   "cell_type": "markdown",
   "metadata": {},
   "source": [
    "### Exercise 2\n",
    "Append following lines to a file called <b>exercise1.txt</b>:\n",
    "\n",
    "    Twinkle, twinkle, little star,\n",
    "    How I wonder what you are.\n",
    "    \n",
    "Don't forget to close the file.    "
   ]
  },
  {
   "cell_type": "code",
   "execution_count": 59,
   "metadata": {},
   "outputs": [],
   "source": [
    "file = open (\"exercise1.txt\", \"a\")"
   ]
  },
  {
   "cell_type": "code",
   "execution_count": 60,
   "metadata": {},
   "outputs": [
    {
     "data": {
      "text/plain": [
       "59"
      ]
     },
     "execution_count": 60,
     "metadata": {},
     "output_type": "execute_result"
    }
   ],
   "source": [
    "file.write(\"\\nTwinkle, twinkle, little star, \\nHow I wonder what you are.\")"
   ]
  },
  {
   "cell_type": "code",
   "execution_count": 61,
   "metadata": {},
   "outputs": [],
   "source": [
    "file.close()"
   ]
  },
  {
   "cell_type": "markdown",
   "metadata": {},
   "source": [
    "### Exercise 3\n",
    "Read a file, <b>exercise1.txt</b> and print the content of the file using a loop.\n",
    "    \n",
    "Don't forget to close the file.    "
   ]
  },
  {
   "cell_type": "code",
   "execution_count": 62,
   "metadata": {},
   "outputs": [
    {
     "name": "stdout",
     "output_type": "stream",
     "text": [
      "Twinkle, twinkle, little star, \n",
      "\n",
      "How I wonder what you are. \n",
      "\n",
      "Up above the world so high, \n",
      "\n",
      "Like a diamond in the sky.\n",
      "\n",
      "Twinkle, twinkle, little star, \n",
      "\n",
      "How I wonder what you are.\n"
     ]
    }
   ],
   "source": [
    "file = open(\"exercise1.txt\", \"r\")\n",
    "for line in file : \n",
    "    print(line)\n",
    "\n",
    "file.close()"
   ]
  },
  {
   "cell_type": "code",
   "execution_count": null,
   "metadata": {},
   "outputs": [],
   "source": []
  },
  {
   "cell_type": "markdown",
   "metadata": {},
   "source": [
    "### Exercise 4\n",
    "Read line number 4 from the file, <b>exercise1.txt</b>."
   ]
  },
  {
   "cell_type": "code",
   "execution_count": 63,
   "metadata": {},
   "outputs": [
    {
     "name": "stdout",
     "output_type": "stream",
     "text": [
      "Like a diamond in the sky.\n",
      "\n"
     ]
    }
   ],
   "source": [
    "with open(\"exercise1.txt\", \"r\") as fptr:\n",
    "    line = fptr.readlines()\n",
    "    print(line[3])\n"
   ]
  },
  {
   "cell_type": "code",
   "execution_count": null,
   "metadata": {},
   "outputs": [],
   "source": []
  },
  {
   "cell_type": "markdown",
   "metadata": {},
   "source": [
    "### Exercise 5\n",
    "Write a program that asks the user for a number and a file name, then prints out the number from 1 to that number, one one each line to a file named using user's input.\n",
    "Then, read that file and print out its content."
   ]
  },
  {
   "cell_type": "code",
   "execution_count": 3,
   "metadata": {},
   "outputs": [
    {
     "name": "stdout",
     "output_type": "stream",
     "text": [
      "Enter file name:  code\n",
      "Please enter a number7\n"
     ]
    }
   ],
   "source": [
    "my_file_name = input(\"Enter file name:  \") \n",
    "numb = int(input(\"Please enter a number\"))"
   ]
  },
  {
   "cell_type": "code",
   "execution_count": 4,
   "metadata": {},
   "outputs": [],
   "source": [
    "with open (my_file_name, \"w\") as fptr:\n",
    "           for i in range(1, numb+1):\n",
    "               fptr.write(str(i) + \"\\n\")"
   ]
  },
  {
   "cell_type": "code",
   "execution_count": 5,
   "metadata": {},
   "outputs": [
    {
     "name": "stdout",
     "output_type": "stream",
     "text": [
      "1\n",
      "2\n",
      "3\n",
      "4\n",
      "5\n",
      "6\n",
      "7\n",
      "\n"
     ]
    }
   ],
   "source": [
    "with open (my_file_name, \"r\") as fptr:\n",
    "           print (fptr.read())"
   ]
  },
  {
   "cell_type": "markdown",
   "metadata": {},
   "source": [
    "### Exercise 6\n",
    "Merge a file from exercise 5 and <b>exercise1.txt</b> to a file called <b>merged.txt</b>. Then, prin out the content of <b>merged.txt</b> before closing the file."
   ]
  },
  {
   "cell_type": "code",
   "execution_count": 6,
   "metadata": {},
   "outputs": [
    {
     "name": "stdout",
     "output_type": "stream",
     "text": [
      "1\n",
      "2\n",
      "3\n",
      "4\n",
      "5\n",
      "6\n",
      "7\n",
      "\n",
      "Twinkle, twinkle, little star, \n",
      "How I wonder what you are. \n",
      "Up above the world so high, \n",
      "Like a diamond in the sky.\n",
      "Twinkle, twinkle, little star, \n",
      "How I wonder what you are.\n",
      "1\n",
      "2\n",
      "3\n",
      "4\n",
      "5\n",
      "6\n",
      "7\n",
      "Twinkle, twinkle, little star, \n",
      "How I wonder what you are. \n",
      "Up above the world so high, \n",
      "Like a diamond in the sky.\n",
      "Twinkle, twinkle, little star, \n",
      "How I wonder what you are.\n"
     ]
    }
   ],
   "source": [
    "with open(my_file_name, \"r\") as fptr1:\n",
    "    with open (\"exercise1.txt\", \"r\") as fptr2:\n",
    "        with open (\"merged.txt\", \"w+\") as out_fptr:\n",
    "            text1 = fptr1.read()\n",
    "            text2 = fptr2.read()\n",
    "            out_fptr.write(text1)\n",
    "            out_fptr.write(text2)\n",
    "            print(text1)\n",
    "            print(text2)\n",
    "        \n",
    "            out_fptr.seek(0)\n",
    "            method=out_fptr.read\n",
    "            a = method()\n",
    "            print(a)"
   ]
  },
  {
   "cell_type": "code",
   "execution_count": 8,
   "metadata": {},
   "outputs": [
    {
     "name": "stdout",
     "output_type": "stream",
     "text": [
      "1\n",
      "2\n",
      "3\n",
      "4\n",
      "5\n",
      "6\n",
      "7\n",
      "\n",
      "Twinkle, twinkle, little star, \n",
      "How I wonder what you are. \n",
      "Up above the world so high, \n",
      "Like a diamond in the sky.\n",
      "Twinkle, twinkle, little star, \n",
      "How I wonder what you are.\n",
      "1\n",
      "2\n",
      "3\n",
      "4\n",
      "5\n",
      "6\n",
      "7\n",
      "Twinkle, twinkle, little star, \n",
      "How I wonder what you are. \n",
      "Up above the world so high, \n",
      "Like a diamond in the sky.\n",
      "Twinkle, twinkle, little star, \n",
      "How I wonder what you are.\n"
     ]
    }
   ],
   "source": [
    "with open(my_file_name, \"r\") as fptr1:\n",
    "    with open (\"exercise1.txt\", \"r\") as fptr2:\n",
    "        with open (\"merged.txt\", \"w+\") as out_fptr:\n",
    "            text1 = fptr1.read()\n",
    "            text2 = fptr2.read()\n",
    "            out_fptr.write(text1)\n",
    "            out_fptr.write(text2)\n",
    "            print(text1)\n",
    "            print(text2)\n",
    "            \n",
    "            out_fptr.seek(0)\n",
    "            print(out_fptr.read()) "
   ]
  },
  {
   "cell_type": "code",
   "execution_count": null,
   "metadata": {},
   "outputs": [],
   "source": []
  }
 ],
 "metadata": {
  "kernelspec": {
   "display_name": "Python 3 (ipykernel)",
   "language": "python",
   "name": "python3"
  },
  "language_info": {
   "codemirror_mode": {
    "name": "ipython",
    "version": 3
   },
   "file_extension": ".py",
   "mimetype": "text/x-python",
   "name": "python",
   "nbconvert_exporter": "python",
   "pygments_lexer": "ipython3",
   "version": "3.9.7"
  }
 },
 "nbformat": 4,
 "nbformat_minor": 4
}
